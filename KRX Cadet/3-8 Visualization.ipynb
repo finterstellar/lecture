{
  "cells": [
    {
      "cell_type": "code",
      "source": [
        "pip install finterstellar"
      ],
      "metadata": {
        "id": "SylJeM88pkA4"
      },
      "id": "SylJeM88pkA4",
      "execution_count": null,
      "outputs": []
    },
    {
      "cell_type": "code",
      "execution_count": null,
      "metadata": {
        "id": "468dfac2-e47a-4447-94cf-f5fcfc265a89"
      },
      "outputs": [],
      "source": [
        "import finterstellar as fs\n",
        "import pandas as pd\n",
        "import numpy as np"
      ],
      "id": "468dfac2-e47a-4447-94cf-f5fcfc265a89"
    },
    {
      "cell_type": "code",
      "source": [
        "df = fs.get_price('AAPL', start_date='2024-01-01', end_date='2024-11-30')\n",
        "df"
      ],
      "metadata": {
        "id": "8xkCcBNRp0WK"
      },
      "id": "8xkCcBNRp0WK",
      "execution_count": null,
      "outputs": []
    },
    {
      "cell_type": "code",
      "source": [
        "df.plot()"
      ],
      "metadata": {
        "id": "B4_CjR9fveVZ"
      },
      "id": "B4_CjR9fveVZ",
      "execution_count": null,
      "outputs": []
    },
    {
      "cell_type": "code",
      "source": [
        "df = fs.get_price('AAPL', start_date='2000-01-01')\n",
        "df.plot()"
      ],
      "metadata": {
        "id": "AuVftBfp491y"
      },
      "id": "AuVftBfp491y",
      "execution_count": null,
      "outputs": []
    },
    {
      "cell_type": "code",
      "source": [
        "df.plot(logy=True)"
      ],
      "metadata": {
        "id": "EhdL91IQ2_eM"
      },
      "id": "EhdL91IQ2_eM",
      "execution_count": null,
      "outputs": []
    },
    {
      "cell_type": "markdown",
      "source": [
        "## matplotlib"
      ],
      "metadata": {
        "id": "w5Vl3idT3uCX"
      },
      "id": "w5Vl3idT3uCX"
    },
    {
      "cell_type": "code",
      "source": [
        "import matplotlib.pyplot as plt\n",
        "fig, ax1 = plt.subplots()\n",
        "ax1 = df['AAPL'].plot(color='crimson')\n",
        "ax2 = ax1.twinx()\n",
        "ax2 = df['AAPL'].plot(logy=True, secondary_y=True)\n",
        "plt.show()"
      ],
      "metadata": {
        "id": "8-cMtZFpL2B1"
      },
      "id": "8-cMtZFpL2B1",
      "execution_count": null,
      "outputs": []
    },
    {
      "cell_type": "markdown",
      "source": [
        "## plotly"
      ],
      "metadata": {
        "id": "x8EYg4ya6WkI"
      },
      "id": "x8EYg4ya6WkI"
    },
    {
      "cell_type": "code",
      "source": [
        "import plotly.express as px"
      ],
      "metadata": {
        "id": "VEpRBkqK3SfO"
      },
      "id": "VEpRBkqK3SfO",
      "execution_count": null,
      "outputs": []
    },
    {
      "cell_type": "code",
      "source": [
        "fig = px.area(df, x=df.index, y='AAPL')\n",
        "fig.show()"
      ],
      "metadata": {
        "id": "Z1pkJQs25hkY"
      },
      "id": "Z1pkJQs25hkY",
      "execution_count": null,
      "outputs": []
    },
    {
      "cell_type": "code",
      "source": [
        "fig = px.area(df, x=df.index, y='AAPL', log_y=True)\n",
        "fig.show()"
      ],
      "metadata": {
        "id": "EMz0x6FZ5n-H"
      },
      "id": "EMz0x6FZ5n-H",
      "execution_count": null,
      "outputs": []
    },
    {
      "cell_type": "code",
      "source": [
        "fig = px.area(df, x=df.index, y='AAPL')\n",
        "fig.update_layout(\n",
        "    template='plotly_dark',\n",
        "    margin=dict(l=10, r=10, t=10, b=10),\n",
        "    legend=dict(yanchor='top', y=0.99, xanchor='left', x=0.01)\n",
        ")"
      ],
      "metadata": {
        "id": "KIKVBg0AO4Kx"
      },
      "id": "KIKVBg0AO4Kx",
      "execution_count": null,
      "outputs": []
    },
    {
      "cell_type": "code",
      "source": [
        "import plotly.graph_objects as go\n",
        "from plotly.subplots import make_subplots\n",
        "\n",
        "# Create figure with secondary y-axis\n",
        "fig = make_subplots(specs=[[{\"secondary_y\": True}]])\n",
        "\n",
        "# Add traces\n",
        "fig.add_trace(\n",
        "    go.Scatter(x=df.index, y=df['AAPL'], name='Price(로그)'),\n",
        "    secondary_y=False,\n",
        ")\n",
        "\n",
        "fig.add_trace(\n",
        "    go.Scatter(x=df.index, y=df['AAPL'], name='Price'),\n",
        "    secondary_y=True,\n",
        ")\n",
        "\n",
        "# Set y-axes titles\n",
        "fig.update_yaxes(title_text='Log', secondary_y=False, type='log')\n",
        "fig.update_yaxes(secondary_y=True)\n",
        "\n",
        "fig.update_layout(\n",
        "    template='plotly_dark',\n",
        "    margin=dict(l=10, r=10, t=10, b=10),\n",
        "    legend=dict(yanchor='top', y=0.99, xanchor='left', x=0.01),\n",
        "    yaxis2=dict(title='Price', anchor='x', overlaying='y', side='right', tickmode='sync',),\n",
        ")\n",
        "fig.show()"
      ],
      "metadata": {
        "id": "Zhgkhiz3X6IP"
      },
      "id": "Zhgkhiz3X6IP",
      "execution_count": null,
      "outputs": []
    },
    {
      "cell_type": "code",
      "source": [
        "# Create figure with secondary y-axis\n",
        "fig = make_subplots(specs=[[{\"secondary_y\": True}]])\n",
        "\n",
        "# Add traces\n",
        "fig.add_trace(\n",
        "    go.Scatter(x=df.index, y=df['AAPL'], name='Log'),\n",
        "    secondary_y=False,\n",
        ")\n",
        "\n",
        "fig.add_trace(\n",
        "    go.Scatter(x=df.index, y=df['AAPL'], name='Price'),\n",
        "    secondary_y=True,\n",
        ")\n",
        "\n",
        "# Set y-axes titles\n",
        "fig.update_yaxes(title_text='Log', secondary_y=False, type='log')\n",
        "fig.update_yaxes(secondary_y=True)\n",
        "fig.update_yaxes(range=[np.log10(np.min(df['AAPL'])), np.log10(np.max(df['AAPL']))])\n",
        "fig.update_yaxes(range=[np.min(df['AAPL']), np.max(df['AAPL'])], secondary_y=True)\n",
        "\n",
        "fig.update_layout(\n",
        "    template='plotly_dark',\n",
        "    margin=dict(l=10, r=10, t=10, b=10),\n",
        "    legend=dict(yanchor='top', y=0.99, xanchor='left', x=0.01),\n",
        ")\n",
        "fig.show()"
      ],
      "metadata": {
        "id": "YqhvYKP57f3F"
      },
      "id": "YqhvYKP57f3F",
      "execution_count": null,
      "outputs": []
    },
    {
      "cell_type": "code",
      "source": [],
      "metadata": {
        "id": "NJK70gTkxEiq"
      },
      "id": "NJK70gTkxEiq",
      "execution_count": null,
      "outputs": []
    },
    {
      "cell_type": "markdown",
      "source": [
        "#Candlestick chart"
      ],
      "metadata": {
        "id": "Dthb8bG53e3H"
      },
      "id": "Dthb8bG53e3H"
    },
    {
      "cell_type": "code",
      "source": [
        "df2 = fs.get_ohlc('MSFT', start_date='2024-01-01')\n",
        "df2"
      ],
      "metadata": {
        "id": "l7mgTS8q2cM8"
      },
      "id": "l7mgTS8q2cM8",
      "execution_count": null,
      "outputs": []
    },
    {
      "cell_type": "code",
      "source": [
        "fig = go.Figure(data=[go.Candlestick(x=df2.index,\n",
        "                open=df2['Open'], high=df2['High'], low=df2['Low'], close=df2['Close'])])\n",
        "\n",
        "fig.update_layout(\n",
        "    template='plotly_dark',\n",
        "    margin=dict(l=10, r=10, t=10, b=10),\n",
        "    legend=dict(yanchor='top', y=0.99, xanchor='left', x=0.01)\n",
        ")\n",
        "fig.show()"
      ],
      "metadata": {
        "id": "dlhGUs-m2g81"
      },
      "id": "dlhGUs-m2g81",
      "execution_count": null,
      "outputs": []
    },
    {
      "cell_type": "markdown",
      "source": [
        "중간중간 이빨빠진건 무엇?\n",
        "\n",
        "plotly 에서 주말을 스킵하는 방법을 검색해보자"
      ],
      "metadata": {
        "id": "ZcmpHvFK-EWH"
      },
      "id": "ZcmpHvFK-EWH"
    },
    {
      "cell_type": "code",
      "source": [
        "# 공휴일 제외\n",
        "fig = go.Figure(data=[go.Candlestick(x=df2.index,\n",
        "                open=df2['Open'], high=df2['High'], low=df2['Low'], close=df2['Close'])])\n",
        "\n",
        "fig.update_layout(\n",
        "    template='plotly_dark',\n",
        "    margin=dict(l=10, r=10, t=10, b=10),\n",
        "    legend=dict(yanchor='top', y=0.99, xanchor='left', x=0.01)\n",
        ")\n",
        "fig.update_xaxes(\n",
        "    rangebreaks=[\n",
        "        dict(bounds=['sat', 'mon']), # weekend\n",
        "        dict(values=['2023-07-04'])  # independence day\n",
        "    ]\n",
        ")\n",
        "fig.show()"
      ],
      "metadata": {
        "id": "rshLyt2320Ma"
      },
      "id": "rshLyt2320Ma",
      "execution_count": null,
      "outputs": []
    },
    {
      "cell_type": "code",
      "source": [],
      "metadata": {
        "id": "giNTxN7Y9FR8"
      },
      "id": "giNTxN7Y9FR8",
      "execution_count": null,
      "outputs": []
    }
  ],
  "metadata": {
    "colab": {
      "provenance": []
    },
    "kernelspec": {
      "display_name": "Python 3 (ipykernel)",
      "language": "python",
      "name": "python3"
    },
    "language_info": {
      "codemirror_mode": {
        "name": "ipython",
        "version": 3
      },
      "file_extension": ".py",
      "mimetype": "text/x-python",
      "name": "python",
      "nbconvert_exporter": "python",
      "pygments_lexer": "ipython3",
      "version": "3.11.4"
    }
  },
  "nbformat": 4,
  "nbformat_minor": 5
}