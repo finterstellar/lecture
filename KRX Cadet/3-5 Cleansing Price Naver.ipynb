{
  "cells": [
    {
      "cell_type": "code",
      "execution_count": null,
      "metadata": {
        "id": "468dfac2-e47a-4447-94cf-f5fcfc265a89"
      },
      "outputs": [],
      "source": [
        "import requests    # browser 와 server 간 통신\n",
        "import pandas as pd    # 데이터 분석 도구\n",
        "import json"
      ],
      "id": "468dfac2-e47a-4447-94cf-f5fcfc265a89"
    },
    {
      "cell_type": "code",
      "execution_count": null,
      "metadata": {
        "id": "cafffe57-a5b5-4636-8516-a25c6826eabc"
      },
      "outputs": [],
      "source": [
        "# url: 서버 주소\n",
        "url = 'https://api.finance.naver.com/siseJson.naver'"
      ],
      "id": "cafffe57-a5b5-4636-8516-a25c6826eabc"
    },
    {
      "cell_type": "code",
      "execution_count": null,
      "metadata": {
        "id": "acadffa3-eb71-4820-aa6e-820cb7753c01"
      },
      "outputs": [],
      "source": [
        "data = {\n",
        "    'symbol': '005930',\n",
        "    'requestType': 1,\n",
        "    'startTime': '20241115',\n",
        "    'endTime': '20241130',\n",
        "    'timeframe': 'day',\n",
        "}\n",
        "raw = requests.post(url, data=data)    # 서버와 통신\n",
        "raw"
      ],
      "id": "acadffa3-eb71-4820-aa6e-820cb7753c01"
    },
    {
      "cell_type": "code",
      "source": [
        "raw.content"
      ],
      "metadata": {
        "id": "VKiy3FFjeWnF"
      },
      "id": "VKiy3FFjeWnF",
      "execution_count": null,
      "outputs": []
    },
    {
      "cell_type": "code",
      "execution_count": null,
      "metadata": {
        "id": "94YEaNkvmpKR"
      },
      "outputs": [],
      "source": [
        "raw.content.decode()"
      ],
      "id": "94YEaNkvmpKR"
    },
    {
      "cell_type": "code",
      "source": [
        "d = raw.content.decode().split('],\\n\\n\\t\\n\\t\\n\\t\\t\\n[')[1]\n",
        "d"
      ],
      "metadata": {
        "id": "I8BhaxG1rVeS"
      },
      "id": "I8BhaxG1rVeS",
      "execution_count": null,
      "outputs": []
    },
    {
      "cell_type": "code",
      "source": [
        "d = d.split(']\\n\\t\\t\\n\\t\\n\\n]\\n')[0]\n",
        "d"
      ],
      "metadata": {
        "id": "Im5WAUROs4jg"
      },
      "id": "Im5WAUROs4jg",
      "execution_count": null,
      "outputs": []
    },
    {
      "cell_type": "code",
      "source": [
        "d.split('],\\n\\t\\t\\n[')"
      ],
      "metadata": {
        "id": "pW93-lVIoksA"
      },
      "id": "pW93-lVIoksA",
      "execution_count": null,
      "outputs": []
    },
    {
      "cell_type": "code",
      "source": [
        "data = []\n",
        "for r in d.split('],\\n\\t\\t\\n['):\n",
        "    data.append(r.split(','))\n",
        "data"
      ],
      "metadata": {
        "id": "m0sE-r7iqYgb"
      },
      "id": "m0sE-r7iqYgb",
      "execution_count": null,
      "outputs": []
    },
    {
      "cell_type": "code",
      "source": [
        "data[0][0]"
      ],
      "metadata": {
        "id": "YHtrw70jr33t"
      },
      "id": "YHtrw70jr33t",
      "execution_count": null,
      "outputs": []
    },
    {
      "cell_type": "code",
      "source": [
        "data[0][1]"
      ],
      "metadata": {
        "id": "DStlH3-6sLAk"
      },
      "id": "DStlH3-6sLAk",
      "execution_count": null,
      "outputs": []
    },
    {
      "cell_type": "code",
      "source": [
        "df = pd.DataFrame(data)\n",
        "df"
      ],
      "metadata": {
        "id": "ZE2Y7KbksRcR"
      },
      "id": "ZE2Y7KbksRcR",
      "execution_count": null,
      "outputs": []
    },
    {
      "cell_type": "code",
      "source": [
        "df.rename(columns={0:'Date', 1:'O', 2:'H', 3:'L', 4:'C', 5:'Volume', 6:'Limit'}, inplace=True)\n",
        "df"
      ],
      "metadata": {
        "id": "JzxQQgtjt1FJ"
      },
      "id": "JzxQQgtjt1FJ",
      "execution_count": null,
      "outputs": []
    },
    {
      "cell_type": "code",
      "source": [
        "df['Date']"
      ],
      "metadata": {
        "id": "H5G4T8sxuK4j"
      },
      "id": "H5G4T8sxuK4j",
      "execution_count": null,
      "outputs": []
    },
    {
      "cell_type": "code",
      "source": [
        "df['Date'] = df['Date'].str.replace('\"','')\n",
        "df['Date']"
      ],
      "metadata": {
        "id": "TzVyiywYcqhl"
      },
      "id": "TzVyiywYcqhl",
      "execution_count": null,
      "outputs": []
    },
    {
      "cell_type": "code",
      "source": [
        "pd.to_datetime(df['Date'])"
      ],
      "metadata": {
        "id": "dK_PxFMauS5x"
      },
      "id": "dK_PxFMauS5x",
      "execution_count": null,
      "outputs": []
    },
    {
      "cell_type": "code",
      "source": [
        "df['Date'].str.replace('\"','')"
      ],
      "metadata": {
        "id": "O7airt6PuV1a"
      },
      "id": "O7airt6PuV1a",
      "execution_count": null,
      "outputs": []
    },
    {
      "cell_type": "code",
      "source": [
        "pd.to_datetime(df['Date'].str.replace('\"',''))"
      ],
      "metadata": {
        "id": "RRXQkOePueg8"
      },
      "id": "RRXQkOePueg8",
      "execution_count": null,
      "outputs": []
    },
    {
      "cell_type": "code",
      "source": [
        "df['Date'] = pd.to_datetime(df['Date'].str.replace('\"',''))\n",
        "df"
      ],
      "metadata": {
        "id": "r3jmC5fSunpQ"
      },
      "id": "r3jmC5fSunpQ",
      "execution_count": null,
      "outputs": []
    },
    {
      "cell_type": "code",
      "source": [
        "df['C']"
      ],
      "metadata": {
        "id": "0Uu2tFLDusgt"
      },
      "id": "0Uu2tFLDusgt",
      "execution_count": null,
      "outputs": []
    },
    {
      "cell_type": "code",
      "source": [
        "df['C'].astype('float')"
      ],
      "metadata": {
        "id": "c29vC-Vcu8I_"
      },
      "id": "c29vC-Vcu8I_",
      "execution_count": null,
      "outputs": []
    },
    {
      "cell_type": "code",
      "source": [
        "df['C'] = df['C'].astype('float')\n",
        "df"
      ],
      "metadata": {
        "id": "l6BCUspvu_ng"
      },
      "id": "l6BCUspvu_ng",
      "execution_count": null,
      "outputs": []
    },
    {
      "cell_type": "code",
      "source": [
        "df.set_index('Date')"
      ],
      "metadata": {
        "id": "cr9_SHmYvCvL"
      },
      "id": "cr9_SHmYvCvL",
      "execution_count": null,
      "outputs": []
    },
    {
      "cell_type": "code",
      "source": [],
      "metadata": {
        "id": "oHgumJFivNtY"
      },
      "id": "oHgumJFivNtY",
      "execution_count": null,
      "outputs": []
    }
  ],
  "metadata": {
    "colab": {
      "provenance": []
    },
    "kernelspec": {
      "display_name": "Python 3 (ipykernel)",
      "language": "python",
      "name": "python3"
    },
    "language_info": {
      "codemirror_mode": {
        "name": "ipython",
        "version": 3
      },
      "file_extension": ".py",
      "mimetype": "text/x-python",
      "name": "python",
      "nbconvert_exporter": "python",
      "pygments_lexer": "ipython3",
      "version": "3.11.4"
    }
  },
  "nbformat": 4,
  "nbformat_minor": 5
}