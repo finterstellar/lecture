{
  "cells": [
    {
      "cell_type": "markdown",
      "source": [
        "## 종목별 주가 데이터 크롤링"
      ],
      "metadata": {
        "id": "w5Vl3idT3uCX"
      },
      "id": "w5Vl3idT3uCX"
    },
    {
      "cell_type": "code",
      "execution_count": null,
      "metadata": {
        "id": "468dfac2-e47a-4447-94cf-f5fcfc265a89"
      },
      "outputs": [],
      "source": [
        "import requests    # browser 와 server 간 통신\n",
        "import pandas as pd    # 데이터 분석 도구"
      ],
      "id": "468dfac2-e47a-4447-94cf-f5fcfc265a89"
    },
    {
      "cell_type": "code",
      "source": [
        "# 데이터 포맷팅\n",
        "pd.options.display.float_format = '{:,.2f}'.format\n",
        "pd.set_option('mode.chained_assignment', None)"
      ],
      "metadata": {
        "id": "TiD9jSgD5ONX"
      },
      "id": "TiD9jSgD5ONX",
      "execution_count": null,
      "outputs": []
    },
    {
      "cell_type": "code",
      "execution_count": null,
      "metadata": {
        "id": "cafffe57-a5b5-4636-8516-a25c6826eabc"
      },
      "outputs": [],
      "source": [
        "# url: 서버 주소\n",
        "url = 'http://data.krx.co.kr/comm/bldAttendant/getJsonData.cmd'"
      ],
      "id": "cafffe57-a5b5-4636-8516-a25c6826eabc"
    },
    {
      "cell_type": "code",
      "source": [
        "headers = {\n",
        "    'User-Agent': 'Mozilla/5.0',\n",
        "    'Referer': 'http://data.krx.co.kr/contents/MDC/MDI/mdiLoader',\n",
        "    'Origin': 'http://data.krx.co.kr',\n",
        "}"
      ],
      "metadata": {
        "id": "90KWIm9qumKC"
      },
      "id": "90KWIm9qumKC",
      "execution_count": null,
      "outputs": []
    },
    {
      "cell_type": "markdown",
      "source": [
        "## 종목 마스터 크롤링"
      ],
      "metadata": {
        "id": "QCPjtf0Y-RVG"
      },
      "id": "QCPjtf0Y-RVG"
    },
    {
      "cell_type": "code",
      "source": [],
      "metadata": {
        "id": "LBrR-hnbtup_"
      },
      "id": "LBrR-hnbtup_",
      "execution_count": null,
      "outputs": []
    },
    {
      "cell_type": "code",
      "execution_count": null,
      "metadata": {
        "id": "acadffa3-eb71-4820-aa6e-820cb7753c01"
      },
      "outputs": [],
      "source": [
        "# 종목마스터\n",
        "data = {\n",
        "    'bld': 'dbms/MDC/STAT/standard/MDCSTAT01901',\n",
        "    'locale': 'ko_KR',\n",
        "    'mktId': 'ALL',\n",
        "    'share': '1',\n",
        "    'csvxls_isNo': 'false',\n",
        "}\n",
        "raw = requests.post(url, data=data, headers=headers)    # 서버와 통신\n",
        "rst = raw.json()['OutBlock_1']    # 딕셔너리로 변환 후 'output' 의 value만 추출\n",
        "ln = []\n",
        "for r in rst:\n",
        "    ln.append([c for c in r.values()])\n",
        "df_master = pd.DataFrame(ln)\n",
        "df_master.columns = r.keys()\n",
        "df_master.tail()"
      ],
      "id": "acadffa3-eb71-4820-aa6e-820cb7753c01"
    },
    {
      "cell_type": "code",
      "source": [
        "df_master['ISU_ABBRV']=='삼성전자'"
      ],
      "metadata": {
        "id": "YKsB_nNh4kNM"
      },
      "id": "YKsB_nNh4kNM",
      "execution_count": null,
      "outputs": []
    },
    {
      "cell_type": "code",
      "source": [
        "df_master[df_master['ISU_ABBRV']=='삼성전자']"
      ],
      "metadata": {
        "id": "O_awvMGYZGZu"
      },
      "id": "O_awvMGYZGZu",
      "execution_count": null,
      "outputs": []
    },
    {
      "cell_type": "code",
      "source": [
        "df_master[df_master['ISU_ABBRV']=='삼성전자']['ISU_CD'].iloc[0]"
      ],
      "metadata": {
        "id": "hm5AOqq34vuz"
      },
      "id": "hm5AOqq34vuz",
      "execution_count": null,
      "outputs": []
    },
    {
      "cell_type": "code",
      "source": [
        "df_master[df_master['ISU_ABBRV']=='삼성전자']['ISU_CD'].iloc[0]"
      ],
      "metadata": {
        "id": "bO0qS88BZGco"
      },
      "id": "bO0qS88BZGco",
      "execution_count": null,
      "outputs": []
    },
    {
      "cell_type": "code",
      "source": [
        "df_master[df_master['ISU_SRT_CD']=='005930']['ISU_ABBRV'].iloc[0]"
      ],
      "metadata": {
        "id": "aT4v2Bm6ZGff"
      },
      "id": "aT4v2Bm6ZGff",
      "execution_count": null,
      "outputs": []
    },
    {
      "cell_type": "code",
      "source": [],
      "metadata": {
        "id": "4h2J_33oZQ2A"
      },
      "id": "4h2J_33oZQ2A",
      "execution_count": null,
      "outputs": []
    },
    {
      "cell_type": "code",
      "source": [],
      "metadata": {
        "id": "kn-revaVZQ5M"
      },
      "id": "kn-revaVZQ5M",
      "execution_count": null,
      "outputs": []
    },
    {
      "cell_type": "markdown",
      "source": [
        "## 모든 종목에 쓸 수 있도록 함수화"
      ],
      "metadata": {
        "id": "2g0MzgAt-0fb"
      },
      "id": "2g0MzgAt-0fb"
    },
    {
      "cell_type": "code",
      "execution_count": null,
      "metadata": {
        "id": "2f434947-2b49-4cc3-bf71-ea068bb16767"
      },
      "outputs": [],
      "source": [
        "def historical_price(symbol, start_date, end_date):\n",
        "    # 종목정보 선택\n",
        "    stock = df_master[df_master['ISU_SRT_CD']==symbol] if len(df_master[df_master['ISU_ABBRV']==symbol.upper()])<1 else df_master[df_master['ISU_ABBRV']==symbol.upper()]\n",
        "    print(stock[['ISU_SRT_CD', 'ISU_ABBRV']])\n",
        "    if len(stock)>0:\n",
        "        # 입력인자 세팅\n",
        "        payload = {\n",
        "            'bld': 'dbms/MDC/STAT/standard/MDCSTAT01701',\n",
        "            'isuCd': '{}'.format(stock['ISU_CD'].iloc[0]),\n",
        "            'strtDd': start_date,\n",
        "            'endDd': end_date,\n",
        "        }\n",
        "        raw = requests.post(url, data=payload, headers=headers)    # 서버와 통신\n",
        "        rst = raw.json()['output']    # 딕셔너리로 변환 후 'output' 의 value만 추출\n",
        "        df = pd.DataFrame.from_dict(rst)    # 딕셔너리를 데이터프레임으로 변환\n",
        "        return df\n",
        "    else:\n",
        "        return 'No matched result'"
      ],
      "id": "2f434947-2b49-4cc3-bf71-ea068bb16767"
    },
    {
      "cell_type": "code",
      "execution_count": null,
      "metadata": {
        "id": "ee1c034e-d1fb-4ea8-91ce-64ac2f832ef0"
      },
      "outputs": [],
      "source": [
        "df = historical_price(symbol='005930', start_date='20241101', end_date='20241130')\n",
        "df"
      ],
      "id": "ee1c034e-d1fb-4ea8-91ce-64ac2f832ef0"
    },
    {
      "cell_type": "code",
      "execution_count": null,
      "metadata": {
        "id": "d2699e9d-98ed-4e97-b9e4-6678e072b1f7"
      },
      "outputs": [],
      "source": [
        "df.rename(columns={'TRD_DD':'Date', 'TDD_OPNPRC':'Open', 'TDD_HGPRC':'High', 'TDD_LWPRC':'Low', 'TDD_CLSPRC':'Close', 'ACC_TRDVOL':'Volume', 'ACC_TRDVAL':'Value', 'MKTCAP':'MarketCap', 'LIST_SHRS':'Shares',}, inplace=True)\n",
        "df"
      ],
      "id": "d2699e9d-98ed-4e97-b9e4-6678e072b1f7"
    },
    {
      "cell_type": "code",
      "execution_count": null,
      "metadata": {
        "id": "94YEaNkvmpKR"
      },
      "outputs": [],
      "source": [
        "df.drop(columns=['FLUC_TP_CD', 'CMPPREVDD_PRC', 'FLUC_RT'], inplace=True)\n",
        "df"
      ],
      "id": "94YEaNkvmpKR"
    },
    {
      "cell_type": "code",
      "execution_count": null,
      "metadata": {
        "id": "MJUq1arpnKf4"
      },
      "outputs": [],
      "source": [
        "df['Date']"
      ],
      "id": "MJUq1arpnKf4"
    },
    {
      "cell_type": "code",
      "source": [
        "pd.to_datetime(df['Date'])"
      ],
      "metadata": {
        "id": "Pn3ON20cOj8Y"
      },
      "id": "Pn3ON20cOj8Y",
      "execution_count": null,
      "outputs": []
    },
    {
      "cell_type": "code",
      "source": [
        "df['Date'] = pd.to_datetime(df['Date'])\n",
        "df['Date']"
      ],
      "metadata": {
        "id": "4PcBzA2IOpzd"
      },
      "id": "4PcBzA2IOpzd",
      "execution_count": null,
      "outputs": []
    },
    {
      "cell_type": "code",
      "source": [
        "df['Close']"
      ],
      "metadata": {
        "id": "jsDER3peOxKI"
      },
      "id": "jsDER3peOxKI",
      "execution_count": null,
      "outputs": []
    },
    {
      "cell_type": "code",
      "source": [
        "df['Close'][0] + df['Close'][1]"
      ],
      "metadata": {
        "id": "_5k9AspXLMnJ"
      },
      "id": "_5k9AspXLMnJ",
      "execution_count": null,
      "outputs": []
    },
    {
      "cell_type": "code",
      "source": [
        "df['Close'].str.replace(',','')"
      ],
      "metadata": {
        "id": "j0Rh2kemR0OL"
      },
      "id": "j0Rh2kemR0OL",
      "execution_count": null,
      "outputs": []
    },
    {
      "cell_type": "code",
      "source": [
        "df['Close'].str.replace(',','').astype(float)"
      ],
      "metadata": {
        "id": "g0zXkYqiO3Ii"
      },
      "id": "g0zXkYqiO3Ii",
      "execution_count": null,
      "outputs": []
    },
    {
      "cell_type": "code",
      "source": [
        "df['Close'] = df['Close'].str.replace(',','').astype(float)"
      ],
      "metadata": {
        "id": "diLGvYFOYJcv"
      },
      "id": "diLGvYFOYJcv",
      "execution_count": null,
      "outputs": []
    },
    {
      "cell_type": "code",
      "source": [
        "df['Close']"
      ],
      "metadata": {
        "id": "F2tHw31dO8E9"
      },
      "id": "F2tHw31dO8E9",
      "execution_count": null,
      "outputs": []
    },
    {
      "cell_type": "code",
      "source": [
        "df['Close'][0] + df['Close'][1]"
      ],
      "metadata": {
        "id": "C25l0au6Lgrh"
      },
      "id": "C25l0au6Lgrh",
      "execution_count": null,
      "outputs": []
    },
    {
      "cell_type": "code",
      "source": [
        "df"
      ],
      "metadata": {
        "id": "AIaqFQatQWTj"
      },
      "id": "AIaqFQatQWTj",
      "execution_count": null,
      "outputs": []
    },
    {
      "cell_type": "code",
      "source": [
        "df.set_index('Date', inplace=True)\n",
        "df"
      ],
      "metadata": {
        "id": "Jtf6gP6YYqdk"
      },
      "id": "Jtf6gP6YYqdk",
      "execution_count": null,
      "outputs": []
    },
    {
      "cell_type": "code",
      "source": [
        "df.loc['2024-11-05']"
      ],
      "metadata": {
        "id": "V4_5Er5ZPePN"
      },
      "id": "V4_5Er5ZPePN",
      "execution_count": null,
      "outputs": []
    },
    {
      "cell_type": "code",
      "source": [],
      "metadata": {
        "id": "N2-_MtjxPlCz"
      },
      "id": "N2-_MtjxPlCz",
      "execution_count": null,
      "outputs": []
    }
  ],
  "metadata": {
    "colab": {
      "provenance": []
    },
    "kernelspec": {
      "display_name": "Python 3 (ipykernel)",
      "language": "python",
      "name": "python3"
    },
    "language_info": {
      "codemirror_mode": {
        "name": "ipython",
        "version": 3
      },
      "file_extension": ".py",
      "mimetype": "text/x-python",
      "name": "python",
      "nbconvert_exporter": "python",
      "pygments_lexer": "ipython3",
      "version": "3.11.4"
    }
  },
  "nbformat": 4,
  "nbformat_minor": 5
}